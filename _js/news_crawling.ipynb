{
 "cells": [
  {
   "cell_type": "code",
   "execution_count": 3,
   "metadata": {},
   "outputs": [],
   "source": [
    "import requests\n",
    "import pandas as pd\n",
    "from newspaper import Article\n",
    "\n",
    "# 🔍 네이버 뉴스 검색\n",
    "def search_naver_news_all(query, target_dates):\n",
    "    headers = {\n",
    "        \"X-Naver-Client-Id\": NAVER_CLIENT_ID,\n",
    "        \"X-Naver-Client-Secret\": NAVER_CLIENT_SECRET\n",
    "    }\n",
    "    all_filtered = []\n",
    "    for start in range(1, 500, 100):\n",
    "        params = {\n",
    "            \"query\": query,\n",
    "            \"display\": 100,\n",
    "            \"start\": start,\n",
    "            \"sort\": \"sim\"\n",
    "        }\n",
    "        try:\n",
    "            response = requests.get(\"https://openapi.naver.com/v1/search/news.json\", headers=headers, params=params)\n",
    "            response.raise_for_status()\n",
    "        except:\n",
    "            break\n",
    "        items = response.json().get(\"items\", [])\n",
    "        for item in items:\n",
    "            try:\n",
    "                pubdate = parsedate_to_datetime(item[\"pubDate\"]).date()\n",
    "                if pubdate in target_dates:\n",
    "                    all_filtered.append(item[\"originallink\"].replace(\"amp;\", \"\"))\n",
    "            except:\n",
    "                continue\n",
    "    return all_filtered\n",
    "\n",
    "# 📄 기사 본문 추출\n",
    "def extract_article_text(url):\n",
    "    try:\n",
    "        article = Article(url, language=\"ko\")\n",
    "        article.download()\n",
    "        article.parse()\n",
    "        return article.text\n",
    "    except:\n",
    "        return None"
   ]
  },
  {
   "cell_type": "code",
   "execution_count": 6,
   "metadata": {},
   "outputs": [
    {
     "name": "stdout",
     "output_type": "stream",
     "text": [
      "“이런 사기 꾼들에게 경제를 맡기겠느냐”고 했다. 그는 파업 노동자에 대한 기업의 손해배상 청구를 제한하는 노란봉투법(노동조합 및 노동관계조정법 개정안)을 예로 들며 “법을 어겨서 파업하는데 손해배상을 안 하면 이 나라가 무법천지가 되는 거 아니겠느냐”고 했다. 김 후보는 평택 삼성전자 반도체...\n"
     ]
    }
   ],
   "source": [
    "text = extract_article_text('https://search.naver.com/search.naver?where=news&query=%EC%82%BC%EC%84%B1%EC%A0%84%EC%9E%90+%EC%82%AC%EA%B8%B0&sort=0&ds=2024.01.01&de=2025.06.01&nso=so%3Ar%2Cp%3Afrom20240101to20250601%2Ca%3A&start=1%20%EC%97%AC%EA%B8%B0%EC%84%9C%20%EB%89%B4%EC%8A%A4%20%EA%B0%80%EC%A0%B8%EC%99%80%EC%84%9C%20%EC%A0%95%EB%A6%AC%ED%95%B4%EC%A4%98')\n",
    "print(text)"
   ]
  }
 ],
 "metadata": {
  "kernelspec": {
   "display_name": "base",
   "language": "python",
   "name": "python3"
  },
  "language_info": {
   "codemirror_mode": {
    "name": "ipython",
    "version": 3
   },
   "file_extension": ".py",
   "mimetype": "text/x-python",
   "name": "python",
   "nbconvert_exporter": "python",
   "pygments_lexer": "ipython3",
   "version": "3.12.7"
  }
 },
 "nbformat": 4,
 "nbformat_minor": 2
}
