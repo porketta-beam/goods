{
 "cells": [
  {
   "cell_type": "code",
   "execution_count": 1,
   "metadata": {},
   "outputs": [],
   "source": [
    "import pandas as pd\n",
    "import requests\n",
    "from bs4 import BeautifulSoup\n",
    "from sklearn.feature_extraction.text import TfidfVectorizer\n",
    "from sklearn.metrics.pairwise import cosine_similarity\n",
    "from nltk.tokenize import sent_tokenize\n",
    "from tqdm import tqdm\n",
    "import hashlib\n",
    "import time\n",
    "\n",
    "tqdm.pandas()"
   ]
  },
  {
   "cell_type": "code",
   "execution_count": 2,
   "metadata": {},
   "outputs": [],
   "source": [
    "def get_report_text(url):\n",
    "    try:\n",
    "        res = requests.get(url, headers={'User-Agent': 'Mozilla/5.0'}, timeout=10)\n",
    "        soup = BeautifulSoup(res.content, 'html.parser')\n",
    "\n",
    "        # 텍스트가 들어있는 iframe 안 링크 찾기\n",
    "        iframe = soup.find('iframe')\n",
    "        if not iframe:\n",
    "            return ''\n",
    "        iframe_url = \"https://dart.fss.or.kr\" + iframe['src']\n",
    "        \n",
    "        res = requests.get(iframe_url, headers={'User-Agent': 'Mozilla/5.0'}, timeout=10)\n",
    "        iframe_soup = BeautifulSoup(res.content, 'html.parser')\n",
    "\n",
    "        # 본문 텍스트 추출\n",
    "        text = iframe_soup.get_text(separator=' ', strip=True)\n",
    "        return text\n",
    "    except Exception as e:\n",
    "        return ''\n"
   ]
  },
  {
   "cell_type": "code",
   "execution_count": 7,
   "metadata": {},
   "outputs": [],
   "source": [
    "def group_events_by_similarity(texts, threshold=0.75):\n",
    "    # stop_words='korean' 제거 → 오류 해결\n",
    "    vectorizer = TfidfVectorizer(stop_words=None, max_df=0.8)\n",
    "    tfidf = vectorizer.fit_transform(texts)\n",
    "    sim_matrix = cosine_similarity(tfidf)\n",
    "\n",
    "    n = len(texts)\n",
    "    groups = [-1] * n\n",
    "    group_id = 0\n",
    "\n",
    "    for i in range(n):\n",
    "        if groups[i] == -1:\n",
    "            groups[i] = group_id\n",
    "            for j in range(i + 1, n):\n",
    "                if sim_matrix[i][j] >= threshold:\n",
    "                    groups[j] = group_id\n",
    "            group_id += 1\n",
    "    return groups"
   ]
  },
  {
   "cell_type": "code",
   "execution_count": 9,
   "metadata": {},
   "outputs": [
    {
     "name": "stderr",
     "output_type": "stream",
     "text": [
      "100%|██████████| 72/72 [00:04<00:00, 16.47it/s]\n",
      "기업별 사건 그룹핑: 100%|██████████| 26/26 [00:00<00:00, 1368.40it/s]\n"
     ]
    }
   ],
   "source": [
    "# CSV 불러오기\n",
    "df = pd.read_csv('data/merged_event_final.csv')\n",
    "\n",
    "# 보고서 텍스트 수집\n",
    "df['text'] = df['source'].progress_apply(get_report_text)\n",
    "\n",
    "# 기업별 사건 그룹핑\n",
    "df['event_id'] = None\n",
    "\n",
    "for corp_id in tqdm(df['company_corp_id'].unique(), desc=\"기업별 사건 그룹핑\"):\n",
    "    sub_df = df[df['company_corp_id'] == corp_id].copy()\n",
    "\n",
    "    if len(sub_df) == 1:\n",
    "        df.loc[sub_df.index, 'event_id'] = f\"{corp_id}_evt_0\"\n",
    "        continue\n",
    "\n",
    "    texts = sub_df['text'].fillna('').tolist()\n",
    "\n",
    "    # 🔻 추가: 모두 빈 텍스트면 건너뛰기\n",
    "    if all(len(text.strip()) == 0 for text in texts):\n",
    "        df.loc[sub_df.index, 'event_id'] = f\"{corp_id}_evt_999\"  # 임시 event_id\n",
    "        continue\n",
    "\n",
    "    groups = group_events_by_similarity(texts, threshold=0.75)\n",
    "\n",
    "    for idx, g in zip(sub_df.index, groups):\n",
    "        df.loc[idx, 'event_id'] = f\"{corp_id}_evt_{g}\""
   ]
  },
  {
   "cell_type": "code",
   "execution_count": 10,
   "metadata": {},
   "outputs": [
    {
     "name": "stdout",
     "output_type": "stream",
     "text": [
      "✅ 분류 완료! 'classified_events.csv', 'company_event_summary.csv' 생성됨.\n"
     ]
    }
   ],
   "source": [
    "# 저장\n",
    "df.to_csv('data/classified_events.csv', index=False)\n",
    "\n",
    "# 기업별 사건 수 요약\n",
    "event_counts = df[['company_corp_id', 'event_id']].drop_duplicates()\n",
    "summary = event_counts['company_corp_id'].value_counts().reset_index()\n",
    "summary.columns = ['company_corp_id', 'unique_event_count']\n",
    "summary.to_csv('company_event_summary.csv', index=False)\n",
    "\n",
    "print(\"✅ 분류 완료! 'classified_events.csv', 'company_event_summary.csv' 생성됨.\")"
   ]
  }
 ],
 "metadata": {
  "kernelspec": {
   "display_name": "base",
   "language": "python",
   "name": "python3"
  },
  "language_info": {
   "codemirror_mode": {
    "name": "ipython",
    "version": 3
   },
   "file_extension": ".py",
   "mimetype": "text/x-python",
   "name": "python",
   "nbconvert_exporter": "python",
   "pygments_lexer": "ipython3",
   "version": "3.12.7"
  }
 },
 "nbformat": 4,
 "nbformat_minor": 2
}
